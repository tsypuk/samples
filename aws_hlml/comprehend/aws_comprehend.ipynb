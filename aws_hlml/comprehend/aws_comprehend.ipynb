{
 "cells": [
  {
   "cell_type": "markdown",
   "id": "1de85df7-81f5-4cc9-ab45-2c9b8866db48",
   "metadata": {},
   "source": [
    "# AWS Comprehend"
   ]
  },
  {
   "cell_type": "markdown",
   "id": "bde00c5f-75cc-47b3-9362-e8bc6b4b637e",
   "metadata": {},
   "source": [
    "## Install dependencies"
   ]
  },
  {
   "cell_type": "code",
   "execution_count": null,
   "outputs": [],
   "source": [
    "pip install boto3"
   ],
   "metadata": {
    "collapsed": false
   }
  },
  {
   "cell_type": "markdown",
   "id": "dfe5290b-cdfc-4edd-9e55-5b82b1f1959e",
   "metadata": {},
   "source": [
    "## Set AWS Creds AccessKey/SecretKey"
   ]
  },
  {
   "cell_type": "code",
   "execution_count": 3,
   "id": "e8475c54-fdb5-4b7d-8ad2-63e26f8a238b",
   "metadata": {},
   "outputs": [],
   "source": [
    "import os\n",
    "\n",
    "# Set environment variable\n",
    "os.environ['AWS_ACCESS_KEY_ID'] = ''\n",
    "os.environ['AWS_SECRET_ACCESS_KEY'] = ''\n",
    "os.environ['AWS_SESSION_TOKEN'] = ''"
   ]
  },
  {
   "cell_type": "code",
   "execution_count": 4,
   "id": "1a284e14-fcf2-4c99-8bf8-bd92ddea35b7",
   "metadata": {},
   "outputs": [],
   "source": [
    "# using boto3 comprehend detect PII in text\n",
    "import boto3\n",
    "import json\n",
    "\n",
    "comprehend = boto3.client(service_name='comprehend', region_name='us-east-1')"
   ]
  },
  {
   "cell_type": "code",
   "execution_count": 5,
   "id": "ee9c54bf-57d5-4d5d-b455-e5c68fed62a8",
   "metadata": {},
   "outputs": [
    {
     "name": "stdout",
     "output_type": "stream",
     "text": [
      "Calling DetectPiiEntities\n",
      "{\n",
      "    \"Entities\": [\n",
      "        {\n",
      "            \"BeginOffset\": 11,\n",
      "            \"EndOffset\": 15,\n",
      "            \"Score\": 0.9998698234558105,\n",
      "            \"Type\": \"NAME\"\n",
      "        },\n",
      "        {\n",
      "            \"BeginOffset\": 25,\n",
      "            \"EndOffset\": 33,\n",
      "            \"Score\": 0.9999417662620544,\n",
      "            \"Type\": \"AGE\"\n",
      "        },\n",
      "        {\n",
      "            \"BeginOffset\": 58,\n",
      "            \"EndOffset\": 70,\n",
      "            \"Score\": 0.9999783039093018,\n",
      "            \"Type\": \"PHONE\"\n",
      "        },\n",
      "        {\n",
      "            \"BeginOffset\": 87,\n",
      "            \"EndOffset\": 113,\n",
      "            \"Score\": 0.9991216063499451,\n",
      "            \"Type\": \"EMAIL\"\n",
      "        },\n",
      "        {\n",
      "            \"BeginOffset\": 125,\n",
      "            \"EndOffset\": 144,\n",
      "            \"Score\": 0.9999704360961914,\n",
      "            \"Type\": \"CREDIT_DEBIT_NUMBER\"\n",
      "        },\n",
      "        {\n",
      "            \"BeginOffset\": 157,\n",
      "            \"EndOffset\": 161,\n",
      "            \"Score\": 0.9999898672103882,\n",
      "            \"Type\": \"PIN\"\n",
      "        }\n",
      "    ],\n",
      "    \"ResponseMetadata\": {\n",
      "        \"HTTPHeaders\": {\n",
      "            \"content-length\": \"484\",\n",
      "            \"content-type\": \"application/x-amz-json-1.1\",\n",
      "            \"date\": \"Sun, 12 Nov 2023 10:27:44 GMT\",\n",
      "            \"x-amzn-requestid\": \"a1d06735-0c52-4ff6-9f83-ae3b9f474383\"\n",
      "        },\n",
      "        \"HTTPStatusCode\": 200,\n",
      "        \"RequestId\": \"a1d06735-0c52-4ff6-9f83-ae3b9f474383\",\n",
      "        \"RetryAttempts\": 0\n",
      "    }\n",
      "}\n",
      "End of DetectPiiEntities\n",
      "\n"
     ]
    }
   ],
   "source": [
    "text = \"My name is John and I am 25 years old. My phone number is 000000000000 and my email is XXXXXXXXXXXXXXXX@gmail.com my card is 1111-1111-1111-1111 and pin was 1234\"\n",
    "print('Calling DetectPiiEntities')\n",
    "json_data = comprehend.detect_pii_entities(Text=text, LanguageCode='en')\n",
    "print(json.dumps(json_data, sort_keys=True, indent=4))\n",
    "print(\"End of DetectPiiEntities\\n\")    "
   ]
  },
  {
   "cell_type": "markdown",
   "id": "169f9efc-17a9-43d0-9c62-8dab023006c2",
   "metadata": {},
   "source": [
    "## Analysis"
   ]
  },
  {
   "cell_type": "code",
   "execution_count": 6,
   "id": "ef928f4a-e7e3-48b7-ba41-a969c2b4881d",
   "metadata": {},
   "outputs": [
    {
     "name": "stdout",
     "output_type": "stream",
     "text": [
      "Requirement already satisfied: pandas in /opt/conda/lib/python3.11/site-packages (2.1.3)\n",
      "Requirement already satisfied: numpy<2,>=1.23.2 in /opt/conda/lib/python3.11/site-packages (from pandas) (1.26.1)\n",
      "Requirement already satisfied: python-dateutil>=2.8.2 in /opt/conda/lib/python3.11/site-packages (from pandas) (2.8.2)\n",
      "Requirement already satisfied: pytz>=2020.1 in /opt/conda/lib/python3.11/site-packages (from pandas) (2023.3.post1)\n",
      "Requirement already satisfied: tzdata>=2022.1 in /opt/conda/lib/python3.11/site-packages (from pandas) (2023.3)\n",
      "Requirement already satisfied: six>=1.5 in /opt/conda/lib/python3.11/site-packages (from python-dateutil>=2.8.2->pandas) (1.16.0)\n",
      "Note: you may need to restart the kernel to use updated packages.\n"
     ]
    }
   ],
   "source": [
    "pip install pandas"
   ]
  },
  {
   "cell_type": "code",
   "execution_count": 7,
   "id": "128a5cfe-5d6e-412c-b8d8-02105dc43d21",
   "metadata": {},
   "outputs": [
    {
     "data": {
      "text/html": [
       "<div>\n",
       "<style scoped>\n",
       "    .dataframe tbody tr th:only-of-type {\n",
       "        vertical-align: middle;\n",
       "    }\n",
       "\n",
       "    .dataframe tbody tr th {\n",
       "        vertical-align: top;\n",
       "    }\n",
       "\n",
       "    .dataframe thead th {\n",
       "        text-align: right;\n",
       "    }\n",
       "</style>\n",
       "<table border=\"1\" class=\"dataframe\">\n",
       "  <thead>\n",
       "    <tr style=\"text-align: right;\">\n",
       "      <th></th>\n",
       "      <th>Score</th>\n",
       "      <th>Type</th>\n",
       "      <th>BeginOffset</th>\n",
       "      <th>EndOffset</th>\n",
       "    </tr>\n",
       "  </thead>\n",
       "  <tbody>\n",
       "    <tr>\n",
       "      <th>0</th>\n",
       "      <td>0.999870</td>\n",
       "      <td>NAME</td>\n",
       "      <td>11</td>\n",
       "      <td>15</td>\n",
       "    </tr>\n",
       "    <tr>\n",
       "      <th>1</th>\n",
       "      <td>0.999942</td>\n",
       "      <td>AGE</td>\n",
       "      <td>25</td>\n",
       "      <td>33</td>\n",
       "    </tr>\n",
       "    <tr>\n",
       "      <th>2</th>\n",
       "      <td>0.999978</td>\n",
       "      <td>PHONE</td>\n",
       "      <td>58</td>\n",
       "      <td>70</td>\n",
       "    </tr>\n",
       "    <tr>\n",
       "      <th>3</th>\n",
       "      <td>0.999122</td>\n",
       "      <td>EMAIL</td>\n",
       "      <td>87</td>\n",
       "      <td>113</td>\n",
       "    </tr>\n",
       "    <tr>\n",
       "      <th>4</th>\n",
       "      <td>0.999970</td>\n",
       "      <td>CREDIT_DEBIT_NUMBER</td>\n",
       "      <td>125</td>\n",
       "      <td>144</td>\n",
       "    </tr>\n",
       "    <tr>\n",
       "      <th>5</th>\n",
       "      <td>0.999990</td>\n",
       "      <td>PIN</td>\n",
       "      <td>157</td>\n",
       "      <td>161</td>\n",
       "    </tr>\n",
       "  </tbody>\n",
       "</table>\n",
       "</div>"
      ],
      "text/plain": [
       "      Score                 Type  BeginOffset  EndOffset\n",
       "0  0.999870                 NAME           11         15\n",
       "1  0.999942                  AGE           25         33\n",
       "2  0.999978                PHONE           58         70\n",
       "3  0.999122                EMAIL           87        113\n",
       "4  0.999970  CREDIT_DEBIT_NUMBER          125        144\n",
       "5  0.999990                  PIN          157        161"
      ]
     },
     "metadata": {},
     "output_type": "display_data"
    }
   ],
   "source": [
    "import pandas as pd\n",
    "from IPython.display import display\n",
    "\n",
    "# Create a DataFrame from the JSON data\n",
    "df = pd.DataFrame(json_data[\"Entities\"])\n",
    "\n",
    "# Display the table\n",
    "display(df)"
   ]
  },
  {
   "cell_type": "code",
   "execution_count": 8,
   "id": "c2429641-da35-415f-8b23-d51239d456c2",
   "metadata": {},
   "outputs": [
    {
     "data": {
      "text/html": [
       "<div>\n",
       "<style scoped>\n",
       "    .dataframe tbody tr th:only-of-type {\n",
       "        vertical-align: middle;\n",
       "    }\n",
       "\n",
       "    .dataframe tbody tr th {\n",
       "        vertical-align: top;\n",
       "    }\n",
       "\n",
       "    .dataframe thead th {\n",
       "        text-align: right;\n",
       "    }\n",
       "</style>\n",
       "<table border=\"1\" class=\"dataframe\">\n",
       "  <thead>\n",
       "    <tr style=\"text-align: right;\">\n",
       "      <th></th>\n",
       "      <th>Score</th>\n",
       "      <th>Type</th>\n",
       "      <th>BeginOffset</th>\n",
       "      <th>EndOffset</th>\n",
       "      <th>ExtractedText</th>\n",
       "    </tr>\n",
       "  </thead>\n",
       "  <tbody>\n",
       "    <tr>\n",
       "      <th>0</th>\n",
       "      <td>0.999870</td>\n",
       "      <td>NAME</td>\n",
       "      <td>11</td>\n",
       "      <td>15</td>\n",
       "      <td>John</td>\n",
       "    </tr>\n",
       "    <tr>\n",
       "      <th>1</th>\n",
       "      <td>0.999942</td>\n",
       "      <td>AGE</td>\n",
       "      <td>25</td>\n",
       "      <td>33</td>\n",
       "      <td>25 years</td>\n",
       "    </tr>\n",
       "    <tr>\n",
       "      <th>2</th>\n",
       "      <td>0.999978</td>\n",
       "      <td>PHONE</td>\n",
       "      <td>58</td>\n",
       "      <td>70</td>\n",
       "      <td>000000000000</td>\n",
       "    </tr>\n",
       "    <tr>\n",
       "      <th>3</th>\n",
       "      <td>0.999122</td>\n",
       "      <td>EMAIL</td>\n",
       "      <td>87</td>\n",
       "      <td>113</td>\n",
       "      <td>XXXXXXXXXXXXXXXX@gmail.com</td>\n",
       "    </tr>\n",
       "    <tr>\n",
       "      <th>4</th>\n",
       "      <td>0.999970</td>\n",
       "      <td>CREDIT_DEBIT_NUMBER</td>\n",
       "      <td>125</td>\n",
       "      <td>144</td>\n",
       "      <td>1111-1111-1111-1111</td>\n",
       "    </tr>\n",
       "    <tr>\n",
       "      <th>5</th>\n",
       "      <td>0.999990</td>\n",
       "      <td>PIN</td>\n",
       "      <td>157</td>\n",
       "      <td>161</td>\n",
       "      <td>1234</td>\n",
       "    </tr>\n",
       "  </tbody>\n",
       "</table>\n",
       "</div>"
      ],
      "text/plain": [
       "      Score                 Type  BeginOffset  EndOffset  \\\n",
       "0  0.999870                 NAME           11         15   \n",
       "1  0.999942                  AGE           25         33   \n",
       "2  0.999978                PHONE           58         70   \n",
       "3  0.999122                EMAIL           87        113   \n",
       "4  0.999970  CREDIT_DEBIT_NUMBER          125        144   \n",
       "5  0.999990                  PIN          157        161   \n",
       "\n",
       "                ExtractedText  \n",
       "0                        John  \n",
       "1                    25 years  \n",
       "2                000000000000  \n",
       "3  XXXXXXXXXXXXXXXX@gmail.com  \n",
       "4         1111-1111-1111-1111  \n",
       "5                        1234  "
      ]
     },
     "metadata": {},
     "output_type": "display_data"
    }
   ],
   "source": [
    "df[\"ExtractedText\"] = [text[entry[\"BeginOffset\"]:entry[\"EndOffset\"]] for _, entry in df.iterrows()]\n",
    "\n",
    "# Display the updated table\n",
    "display(df)"
   ]
  },
  {
   "cell_type": "markdown",
   "id": "fe33a896-9cda-42bd-a348-415e8968cc25",
   "metadata": {},
   "source": [
    "## Sentiment Analysis Martin Luter King \"I believe...\" talk"
   ]
  },
  {
   "cell_type": "markdown",
   "id": "93691fb0-4e90-404c-98e5-c76ab9febe82",
   "metadata": {},
   "source": [
    "![king.webp](king.webp)"
   ]
  },
  {
   "cell_type": "code",
   "execution_count": 9,
   "id": "20fc4e8e-e31e-4ead-9a90-3b647d5e932d",
   "metadata": {},
   "outputs": [
    {
     "name": "stdout",
     "output_type": "stream",
     "text": [
      "Calling DetectSentiment\n",
      "{\n",
      "    \"ResponseMetadata\": {\n",
      "        \"HTTPHeaders\": {\n",
      "            \"content-length\": \"164\",\n",
      "            \"content-type\": \"application/x-amz-json-1.1\",\n",
      "            \"date\": \"Sun, 12 Nov 2023 10:28:18 GMT\",\n",
      "            \"x-amzn-requestid\": \"343f5d13-41b8-41a9-b2d3-74b7bc5542c7\"\n",
      "        },\n",
      "        \"HTTPStatusCode\": 200,\n",
      "        \"RequestId\": \"343f5d13-41b8-41a9-b2d3-74b7bc5542c7\",\n",
      "        \"RetryAttempts\": 0\n",
      "    },\n",
      "    \"Sentiment\": \"POSITIVE\",\n",
      "    \"SentimentScore\": {\n",
      "        \"Mixed\": 0.0012894617393612862,\n",
      "        \"Negative\": 0.0006538676097989082,\n",
      "        \"Neutral\": 0.1380418837070465,\n",
      "        \"Positive\": 0.8600147366523743\n",
      "    }\n",
      "}\n",
      "End of DetectSentiment\n",
      "\n"
     ]
    }
   ],
   "source": [
    "martin_luter_talk = \"\"\"\n",
    "    I say to you today, my friends, so even though we face the difficulties of today and tomorrow,\n",
    "    I still have a dream. It is a dream deeply rooted in the American dream.\n",
    "    I have a dream that one day this nation will rise up and live out the true meaning of its creed:\n",
    "    'We hold these truths to be self-evident, that all men are created equal.\n",
    "    \"\"\"\n",
    "\n",
    "print('Calling DetectSentiment')\n",
    "sentiment_output = comprehend.detect_sentiment(Text=martin_luter_talk, LanguageCode='en')\n",
    "print(json.dumps(sentiment_output, sort_keys=True, indent=4))\n",
    "print(\"End of DetectSentiment\\n\")"
   ]
  },
  {
   "cell_type": "code",
   "execution_count": 10,
   "id": "08048705-e10c-4637-a8f3-bcb1f81a0a8e",
   "metadata": {},
   "outputs": [
    {
     "data": {
      "text/plain": [
       "{'Positive': 0.8600147366523743,\n",
       " 'Negative': 0.0006538676097989082,\n",
       " 'Neutral': 0.1380418837070465,\n",
       " 'Mixed': 0.0012894617393612862}"
      ]
     },
     "execution_count": 10,
     "metadata": {},
     "output_type": "execute_result"
    }
   ],
   "source": [
    "sentiment_output['SentimentScore']"
   ]
  },
  {
   "cell_type": "code",
   "execution_count": 11,
   "id": "b1a7c38c-f3e0-4e3b-bbb4-a52dd602e90e",
   "metadata": {},
   "outputs": [
    {
     "data": {
      "text/plain": [
       "'POSITIVE'"
      ]
     },
     "execution_count": 11,
     "metadata": {},
     "output_type": "execute_result"
    }
   ],
   "source": [
    "sentiment_output['Sentiment']"
   ]
  },
  {
   "cell_type": "markdown",
   "id": "28eed9b3-8467-4783-9ed5-636b53caf335",
   "metadata": {},
   "source": [
    "## Show graph"
   ]
  },
  {
   "cell_type": "code",
   "execution_count": 12,
   "id": "4e8efbc6-e31e-451e-ae25-f602eaca2964",
   "metadata": {},
   "outputs": [
    {
     "name": "stdout",
     "output_type": "stream",
     "text": [
      "Requirement already satisfied: matplotlib in /opt/conda/lib/python3.11/site-packages (3.8.1)\n",
      "Requirement already satisfied: contourpy>=1.0.1 in /opt/conda/lib/python3.11/site-packages (from matplotlib) (1.2.0)\n",
      "Requirement already satisfied: cycler>=0.10 in /opt/conda/lib/python3.11/site-packages (from matplotlib) (0.12.1)\n",
      "Requirement already satisfied: fonttools>=4.22.0 in /opt/conda/lib/python3.11/site-packages (from matplotlib) (4.44.0)\n",
      "Requirement already satisfied: kiwisolver>=1.3.1 in /opt/conda/lib/python3.11/site-packages (from matplotlib) (1.4.5)\n",
      "Requirement already satisfied: numpy<2,>=1.21 in /opt/conda/lib/python3.11/site-packages (from matplotlib) (1.26.1)\n",
      "Requirement already satisfied: packaging>=20.0 in /opt/conda/lib/python3.11/site-packages (from matplotlib) (23.2)\n",
      "Requirement already satisfied: pillow>=8 in /opt/conda/lib/python3.11/site-packages (from matplotlib) (10.1.0)\n",
      "Requirement already satisfied: pyparsing>=2.3.1 in /opt/conda/lib/python3.11/site-packages (from matplotlib) (3.1.1)\n",
      "Requirement already satisfied: python-dateutil>=2.7 in /opt/conda/lib/python3.11/site-packages (from matplotlib) (2.8.2)\n",
      "Requirement already satisfied: six>=1.5 in /opt/conda/lib/python3.11/site-packages (from python-dateutil>=2.7->matplotlib) (1.16.0)\n",
      "Note: you may need to restart the kernel to use updated packages.\n"
     ]
    }
   ],
   "source": [
    "pip install matplotlib"
   ]
  },
  {
   "cell_type": "code",
   "execution_count": 13,
   "id": "61eea40b-73e4-4eb6-b5c5-59a9bd5f98db",
   "metadata": {},
   "outputs": [
    {
     "data": {
      "image/png": "[encoded data removed]",
      "text/plain": [
       "<Figure size 640x480 with 1 Axes>"
      ]
     },
     "metadata": {},
     "output_type": "display_data"
    }
   ],
   "source": [
    "import matplotlib.pyplot as plt\n",
    "\n",
    "# SentimentScore data\n",
    "sentiment_scores = sentiment_output['SentimentScore']\n",
    "\n",
    "# Plotting\n",
    "fig, ax = plt.subplots()\n",
    "colors = ['red', 'blue', 'orange', 'green']  # Define colors for each sentiment\n",
    "bars = ax.bar(sentiment_scores.keys(), sentiment_scores.values(), color=colors)\n",
    "\n",
    "# Add labels and title\n",
    "ax.set_ylabel('Sentiment Score')\n",
    "ax.set_title('Sentiment Analysis')\n",
    "ax.set_ylim(0, 1)  # Set the y-axis limit to 0-1\n",
    "\n",
    "# Display the values on top of the bars\n",
    "for bar in bars:\n",
    "    yval = bar.get_height()\n",
    "    ax.text(bar.get_x() + bar.get_width()/2, yval, round(yval, 3), ha='center', va='bottom')\n",
    "\n",
    "# Show the plot\n",
    "plt.show()"
   ]
  },
  {
   "cell_type": "markdown",
   "id": "eaeae80e-485c-432d-ab58-c64257b6aad6",
   "metadata": {},
   "source": [
    "## Detect Toxic in Speech"
   ]
  },
  {
   "cell_type": "markdown",
   "id": "ad801f5e-1fe3-41b8-8df6-410122429226",
   "metadata": {},
   "source": [
    "### Terminator"
   ]
  },
  {
   "cell_type": "markdown",
   "id": "0d38ff5e-8c0d-44fe-983f-e6bf53ec5488",
   "metadata": {},
   "source": [
    "\"I Need Your Clothes, Your Boots and Your Motorcycle.\""
   ]
  },
  {
   "cell_type": "markdown",
   "id": "631d0daa-14dd-4d40-8ad2-d790cd1acebc",
   "metadata": {},
   "source": [
    "![term.jpeg](term.jpeg)"
   ]
  },
  {
   "cell_type": "code",
   "execution_count": 14,
   "id": "e1a9c43f-267e-4b5f-bc82-772d51b24da5",
   "metadata": {},
   "outputs": [
    {
     "name": "stdout",
     "output_type": "stream",
     "text": [
      "{\n",
      "    \"ResponseMetadata\": {\n",
      "        \"HTTPHeaders\": {\n",
      "            \"content-length\": \"416\",\n",
      "            \"content-type\": \"application/x-amz-json-1.1\",\n",
      "            \"date\": \"Sun, 12 Nov 2023 10:28:49 GMT\",\n",
      "            \"x-amzn-requestid\": \"83168a53-4241-4f9a-b186-e9d9f6499335\"\n",
      "        },\n",
      "        \"HTTPStatusCode\": 200,\n",
      "        \"RequestId\": \"83168a53-4241-4f9a-b186-e9d9f6499335\",\n",
      "        \"RetryAttempts\": 0\n",
      "    },\n",
      "    \"ResultList\": [\n",
      "        {\n",
      "            \"Labels\": [\n",
      "                {\n",
      "                    \"Name\": \"PROFANITY\",\n",
      "                    \"Score\": 0.07029999792575836\n",
      "                },\n",
      "                {\n",
      "                    \"Name\": \"HATE_SPEECH\",\n",
      "                    \"Score\": 0.07109999656677246\n",
      "                },\n",
      "                {\n",
      "                    \"Name\": \"INSULT\",\n",
      "                    \"Score\": 0.20020000636577606\n",
      "                },\n",
      "                {\n",
      "                    \"Name\": \"GRAPHIC\",\n",
      "                    \"Score\": 0.01860000006854534\n",
      "                },\n",
      "                {\n",
      "                    \"Name\": \"HARASSMENT_OR_ABUSE\",\n",
      "                    \"Score\": 0.08330000191926956\n",
      "                },\n",
      "                {\n",
      "                    \"Name\": \"SEXUAL\",\n",
      "                    \"Score\": 0.15649999678134918\n",
      "                },\n",
      "                {\n",
      "                    \"Name\": \"VIOLENCE_OR_THREAT\",\n",
      "                    \"Score\": 0.027699999511241913\n",
      "                }\n",
      "            ],\n",
      "            \"Toxicity\": 0.2313999980688095\n",
      "        }\n",
      "    ]\n",
      "}\n"
     ]
    }
   ],
   "source": [
    "response = comprehend.detect_toxic_content(\n",
    "        TextSegments=[\n",
    "            {\n",
    "                'Text': 'I Need Your Clothes, Your Boots and Your Motorcycle.'\n",
    "            },\n",
    "        ],\n",
    "        LanguageCode='en'\n",
    "    )\n",
    "print(json.dumps(response, sort_keys=True, indent=4))"
   ]
  },
  {
   "cell_type": "markdown",
   "id": "9790a593-79a8-4662-a677-21ec21ff0733",
   "metadata": {},
   "source": [
    "### God Father"
   ]
  },
  {
   "cell_type": "markdown",
   "id": "eedf4b7f-a8f3-4d27-8e21-9946806f61f2",
   "metadata": {},
   "source": [
    "'Bonasera, Bonasera, what have I ever done to make you treat me so disrespectfully? If you’d come to me in friendship, this scum who ruined your daughter would be suffering this very day. And if by some chance an honest man like yourself made enemies, they would become my enemies. And then, they would fear you.'"
   ]
  },
  {
   "cell_type": "markdown",
   "id": "bfeebef8-d67b-4911-b5cb-57b8ac5edfc0",
   "metadata": {},
   "source": [
    "![Godfather.jpeg](god_father.jpeg)"
   ]
  },
  {
   "cell_type": "code",
   "execution_count": 15,
   "id": "35ac46a2-c5cd-481f-88c7-287daf98e915",
   "metadata": {},
   "outputs": [
    {
     "name": "stdout",
     "output_type": "stream",
     "text": [
      "{\n",
      "    \"ResponseMetadata\": {\n",
      "        \"HTTPHeaders\": {\n",
      "            \"content-length\": \"413\",\n",
      "            \"content-type\": \"application/x-amz-json-1.1\",\n",
      "            \"date\": \"Sun, 12 Nov 2023 10:28:52 GMT\",\n",
      "            \"x-amzn-requestid\": \"96f03880-aba3-4748-8330-7d2555d42c72\"\n",
      "        },\n",
      "        \"HTTPStatusCode\": 200,\n",
      "        \"RequestId\": \"96f03880-aba3-4748-8330-7d2555d42c72\",\n",
      "        \"RetryAttempts\": 0\n",
      "    },\n",
      "    \"ResultList\": [\n",
      "        {\n",
      "            \"Labels\": [\n",
      "                {\n",
      "                    \"Name\": \"PROFANITY\",\n",
      "                    \"Score\": 0.14669999480247498\n",
      "                },\n",
      "                {\n",
      "                    \"Name\": \"HATE_SPEECH\",\n",
      "                    \"Score\": 0.1316000074148178\n",
      "                },\n",
      "                {\n",
      "                    \"Name\": \"INSULT\",\n",
      "                    \"Score\": 0.8208000063896179\n",
      "                },\n",
      "                {\n",
      "                    \"Name\": \"GRAPHIC\",\n",
      "                    \"Score\": 0.05389999970793724\n",
      "                },\n",
      "                {\n",
      "                    \"Name\": \"HARASSMENT_OR_ABUSE\",\n",
      "                    \"Score\": 0.20350000262260437\n",
      "                },\n",
      "                {\n",
      "                    \"Name\": \"SEXUAL\",\n",
      "                    \"Score\": 0.10809999704360962\n",
      "                },\n",
      "                {\n",
      "                    \"Name\": \"VIOLENCE_OR_THREAT\",\n",
      "                    \"Score\": 0.35569998621940613\n",
      "                }\n",
      "            ],\n",
      "            \"Toxicity\": 0.6919000148773193\n",
      "        }\n",
      "    ]\n",
      "}\n"
     ]
    }
   ],
   "source": [
    "response = comprehend.detect_toxic_content(\n",
    "        TextSegments=[\n",
    "            {\n",
    "                'Text': 'Bonasera, Bonasera, what have I ever done to make you treat me so disrespectfully? If you’d come to me in friendship, this scum who ruined your daughter would be suffering this very day. And if by some chance an honest man like yourself made enemies, they would become my enemies. And then, they would fear you.'\n",
    "            },\n",
    "        ],\n",
    "        LanguageCode='en'\n",
    "    )\n",
    "print(json.dumps(response, sort_keys=True, indent=4))"
   ]
  },
  {
   "cell_type": "code",
   "execution_count": 16,
   "id": "c1dcf409-cadf-41c4-95da-84b04d92fc25",
   "metadata": {},
   "outputs": [
    {
     "data": {
      "text/plain": [
       "0.6919000148773193"
      ]
     },
     "execution_count": 16,
     "metadata": {},
     "output_type": "execute_result"
    }
   ],
   "source": [
    "response['ResultList'][0]['Toxicity']"
   ]
  },
  {
   "cell_type": "code",
   "execution_count": 19,
   "id": "0364a633-13a3-4733-b954-ab4a5521bf40",
   "metadata": {},
   "outputs": [
    {
     "data": {
      "image/png": "[encoded data removed]",
      "text/plain": [
       "<Figure size 1000x600 with 1 Axes>"
      ]
     },
     "metadata": {},
     "output_type": "display_data"
    }
   ],
   "source": [
    "import matplotlib.pyplot as plt\n",
    "\n",
    "# Data\n",
    "labels_data = response['ResultList'][0]['Labels']\n",
    "\n",
    "# Extracting labels and scores\n",
    "labels = [entry[\"Name\"] for entry in labels_data]\n",
    "scores = [entry[\"Score\"] for entry in labels_data]\n",
    "\n",
    "# Plotting\n",
    "\n",
    "fig, ax = plt.subplots(figsize=(10, 6))  # Adjust the width as needed\n",
    "colors = ['red', 'blue', 'orange', 'green', 'purple', 'yellow', 'brown']  # Define colors for each sentiment\n",
    "bars = ax.bar(labels, scores, color=colors)  # You can change the color as needed\n",
    "\n",
    "# Add labels and title\n",
    "ax.set_ylabel('Score')\n",
    "ax.set_title('Detect Toxic Content')\n",
    "\n",
    "# Display the values on top of the bars\n",
    "for bar in bars:\n",
    "    yval = bar.get_height()\n",
    "    ax.text(bar.get_x() + bar.get_width()/2, yval, round(yval, 3), ha='center', va='bottom')\n",
    "\n",
    "# Show the plot\n",
    "plt.show()"
   ]
  },
  {
   "cell_type": "code",
   "execution_count": null,
   "id": "3c2e4858-e7ca-4f0c-92cd-cc4c6cacdf70",
   "metadata": {},
   "outputs": [],
   "source": []
  }
 ],
 "metadata": {
  "kernelspec": {
   "display_name": "Python 3 (ipykernel)",
   "language": "python",
   "name": "python3"
  },
  "language_info": {
   "codemirror_mode": {
    "name": "ipython",
    "version": 3
   },
   "file_extension": ".py",
   "mimetype": "text/x-python",
   "name": "python",
   "nbconvert_exporter": "python",
   "pygments_lexer": "ipython3",
   "version": "3.11.6"
  }
 },
 "nbformat": 4,
 "nbformat_minor": 5
}
